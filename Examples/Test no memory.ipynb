{
 "cells": [
  {
   "cell_type": "markdown",
   "metadata": {},
   "source": [
    "# Test No-Memory Models on Temporal Networks"
   ]
  },
  {
   "cell_type": "markdown",
   "metadata": {},
   "source": [
    "To test the models I check whether the constraints imposed are well reproduced."
   ]
  },
  {
   "cell_type": "code",
   "execution_count": 58,
   "metadata": {},
   "outputs": [],
   "source": [
    "from NaiveTCM import NaiveNetFitness\n",
    "import Utilities\n",
    "from PersistenceNetFitnessGlobal import PersistenceNetFitnessGlobal\n",
    "from PersistenceNetFitness import PersistenceNetFitness\n",
    "from PersistenceNetFitnesslinks import PersistenceNetFitnesslinks\n",
    "\n",
    "import pandas as pd\n",
    "import numpy as np\n",
    "import networkx as nx\n",
    "import matplotlib.pyplot as plt\n",
    "import os"
   ]
  },
  {
   "cell_type": "code",
   "execution_count": 59,
   "metadata": {},
   "outputs": [
    {
     "name": "stdout",
     "output_type": "stream",
     "text": [
      "[Errno 2] No such file or directory: '../Structural Break and Reconstruction Social Networks/temporal_networks_daily'\n",
      "/home/virginio.clemente/Structural Break and Reconstruction Social Networks/temporal_networks_daily\n"
     ]
    }
   ],
   "source": [
    "cd ../Structural Break and Reconstruction Social Networks/temporal_networks_daily"
   ]
  },
  {
   "cell_type": "code",
   "execution_count": 60,
   "metadata": {},
   "outputs": [],
   "source": [
    "data = []\n",
    "\n",
    "for file in os.listdir():\n",
    "    if 'checkpoints' in file: continue\n",
    "    step = int(file.split('_')[1].split('.')[0])\n",
    "    matrix = np.genfromtxt(file,delimiter=',')\n",
    "    G = nx.from_numpy_matrix(matrix)\n",
    "    data.append([step , G ]) \n",
    "\n",
    "data.sort()"
   ]
  },
  {
   "cell_type": "markdown",
   "metadata": {},
   "source": [
    "# Here I verify that all the models reproduce the constrained features"
   ]
  },
  {
   "cell_type": "code",
   "execution_count": 61,
   "metadata": {},
   "outputs": [],
   "source": [
    "tnet_synt_all = Utilities.TemporalNetworkLoaderSynt(data,0,50)"
   ]
  },
  {
   "cell_type": "markdown",
   "metadata": {},
   "source": [
    "### Naive Configuration Model"
   ]
  },
  {
   "cell_type": "code",
   "execution_count": 62,
   "metadata": {},
   "outputs": [
    {
     "name": "stdout",
     "output_type": "stream",
     "text": [
      "`gtol` termination condition is satisfied.\n",
      "Function evaluations 11, initial cost 6.8604e+03, final cost 1.6198e-10, first-order optimality 3.58e-06.\n",
      "`gtol` termination condition is satisfied.\n"
     ]
    }
   ],
   "source": [
    "pnt_likelihood_naive = NaiveNetFitness(tnet_synt_all)\n",
    "\n",
    "x_cm =  pnt_likelihood_naive.solve_eq()"
   ]
  },
  {
   "cell_type": "code",
   "execution_count": 63,
   "metadata": {},
   "outputs": [],
   "source": [
    "k_exp =  np.zeros( pnt_likelihood_naive.no_nodes )\n",
    "h_exp_cm =  np.zeros( pnt_likelihood_naive.no_nodes )\n",
    "         \n",
    "for i_node in range( pnt_likelihood_naive.no_nodes ):\n",
    "    for j_node in range( pnt_likelihood_naive.no_nodes ):\n",
    "        if i_node == j_node: \n",
    "            continue\n",
    "            \n",
    "        prod = x_cm[i_node] * x_cm[j_node ]\n",
    "        k_exp[ i_node ] += prod / (1 + prod)\n",
    "\n",
    "        h_exp_cm[ i_node ] += (prod / (1 + prod)) ** 2 "
   ]
  },
  {
   "cell_type": "code",
   "execution_count": 64,
   "metadata": {},
   "outputs": [
    {
     "data": {
      "image/png": "[encoded data removed]",
      "text/plain": [
       "<Figure size 432x288 with 1 Axes>"
      ]
     },
     "metadata": {
      "needs_background": "light"
     },
     "output_type": "display_data"
    }
   ],
   "source": [
    "plt.xlabel('real values of k')\n",
    "plt.ylabel('estimated values of k')\n",
    "plt.scatter(k_exp,pnt_likelihood_naive.vec_k)\n",
    "plt.plot([0, 16], [0, 16], ls=\"--\", c=\"0\")\n",
    "plt.show()"
   ]
  },
  {
   "cell_type": "markdown",
   "metadata": {},
   "source": [
    "### Dyadic Configuration Model"
   ]
  },
  {
   "cell_type": "markdown",
   "metadata": {},
   "source": [
    "In this case the calculation is trivial, indeed the parameters are directly computed by inverting the following equaitons. \n",
    "\n",
    "All the equations are independent."
   ]
  },
  {
   "cell_type": "code",
   "execution_count": 70,
   "metadata": {},
   "outputs": [],
   "source": [
    "def average_link(data):\n",
    "    \n",
    "    matrices = []\n",
    "    for time in range(len(data)):\n",
    "\n",
    "        matrix = nx.to_numpy_array(data[time][1]) \n",
    "\n",
    "        matrices.append((matrix))\n",
    "    \n",
    "    average_matrix_sum = np.zeros(np.shape(matrices[0]))\n",
    "\n",
    "\n",
    "    for time in range(len(matrices)):\n",
    "        average_matrix_sum +=matrices[time]\n",
    "\n",
    "    return average_matrix_sum/len(matrices)"
   ]
  },
  {
   "cell_type": "code",
   "execution_count": 71,
   "metadata": {},
   "outputs": [],
   "source": [
    "ave_aij_matrix = average_link(data)"
   ]
  },
  {
   "cell_type": "code",
   "execution_count": 76,
   "metadata": {},
   "outputs": [],
   "source": [
    "# Equations to compute the parameters\n",
    "def compute_a_ij_x_ij(n_nodes,ave_aij_matrix):\n",
    "    a_ij_list = []\n",
    "    x_ij = []\n",
    "    for i in range(n_nodes):\n",
    "        for j in range(i):\n",
    "            a_ij = ave_aij_matrix[i,j]\n",
    "            a_ij_list.append(a_ij)\n",
    "            x_ij.append(a_ij/(1-a_ij))\n",
    "            \n",
    "    return x_ij, a_ij_list\n",
    "\n",
    "#This is the function used to compute the log-likelihood for the Dyadic Model\n",
    "def CM_dyadic_likelihood(n_nodes,x_ij,a_ij):\n",
    "    x_ij_lista = []\n",
    "\n",
    "    for el in x_ij:\n",
    "        if el == np.inf:\n",
    "            x_ij_lista.append(0)\n",
    "        elif el == 0:\n",
    "            x_ij_lista.append(0)\n",
    "        else:\n",
    "            x_ij_lista.append(-np.log(el))\n",
    "            \n",
    "    termine_1 = [a_ij[ii] * x_ij_lista[ii]  for ii in range(len(a_ij)) ]\n",
    "    \n",
    "    termine_2 = 1\n",
    "    ij = 0\n",
    "    for i in range(n_nodes):\n",
    "        for j in range(i):\n",
    "            if x_ij[ij] != np.inf:\n",
    "                termine_2 += np.log(1+x_ij[ij])\n",
    "                ij += 1\n",
    "            else:\n",
    "                ij += 1 \n",
    "                \n",
    "    return (sum(termine_1)  - termine_2) "
   ]
  },
  {
   "cell_type": "code",
   "execution_count": 77,
   "metadata": {},
   "outputs": [],
   "source": [
    "x_ij,a_ij = compute_a_ij_x_ij(pnt_likelihood_naive.no_nodes,ave_aij_matrix)\n",
    "\n",
    "likelihood_all = CM_dyadic_likelihood(pnt_likelihood_naive.no_nodes,x_ij,a_ij)"
   ]
  },
  {
   "cell_type": "code",
   "execution_count": 74,
   "metadata": {},
   "outputs": [
    {
     "data": {
      "text/plain": [
       "8260.40011150734"
      ]
     },
     "execution_count": 74,
     "metadata": {},
     "output_type": "execute_result"
    }
   ],
   "source": [
    "Utilities.AIC(likelihood_all,46*91)"
   ]
  },
  {
   "cell_type": "markdown",
   "metadata": {},
   "source": [
    "### Global Contraint"
   ]
  },
  {
   "cell_type": "markdown",
   "metadata": {},
   "source": [
    "In this case the lagrange multiplier is one and controls the value of the average degree"
   ]
  },
  {
   "cell_type": "code",
   "execution_count": 75,
   "metadata": {},
   "outputs": [],
   "source": [
    "ave_k = np.sum(pnt_likelihood_naive.vec_k)/(pnt_likelihood_naive.no_nodes)\n",
    "\n",
    "x_c_glob = ave_k/(pnt_likelihood_naive.no_nodes - 1 - ave_k)"
   ]
  },
  {
   "cell_type": "markdown",
   "metadata": {},
   "source": [
    "# Here I start working with structural breaks Local CM"
   ]
  },
  {
   "cell_type": "code",
   "execution_count": 82,
   "metadata": {},
   "outputs": [],
   "source": [
    "### Here I recall the set of equations to be solved for the Temporal CM\n",
    "\n",
    "from numba import jit\n",
    "\n",
    "def risolvi_eq(valori):\n",
    "    @jit()\n",
    "    def equations_to_solve(p, k):\n",
    "        n_nodes = len(k)\n",
    "        p = np.array(p)\n",
    "        num_x_nonzero_nodes = np.count_nonzero(k)\n",
    "        x_nonzero = p[0:num_x_nonzero_nodes]\n",
    "        x = np.zeros(n_nodes)\n",
    "        x[k != 0] = x_nonzero\n",
    "\n",
    "        # Expected degrees\n",
    "        k_exp = np.zeros(x.shape[0])\n",
    "\n",
    "        for i in range(n_nodes):\n",
    "            for j in range(n_nodes):\n",
    "                if i == j:\n",
    "                    continue\n",
    "                k_exp[i] += (x[i] * x[j]) / (1 + x[i] * x[j])\n",
    "\n",
    "        k_nonzero = k[k != 0]\n",
    "        k_exp_nonzero = k_exp[k != 0]\n",
    "\n",
    "        f1 = k_nonzero - k_exp_nonzero\n",
    "\n",
    "        return np.asarray(f1)\n",
    "\n",
    "    def numerically_solve_TN(vec_k):\n",
    "        \"\"\"\n",
    "        Solves the TPCM numerically with least squares.\n",
    "        \"\"\"\n",
    "\n",
    "        n_nodes = len(vec_k)\n",
    "\n",
    "        # Rough estimate of initial values\n",
    "        k = vec_k\n",
    "\n",
    "        x_initial_values = np.random.rand(n_nodes)  # plus one to prevent dividing by zero np.sqrt(np.sum(k) + 1) * np.ones(self.no_nodes)\n",
    "\n",
    "        x_initial_values = x_initial_values[k != 0]\n",
    "\n",
    "        initial_values = x_initial_values\n",
    "        boundslu = tuple([0] * len(initial_values)), tuple([np.inf] * len(initial_values))\n",
    "        x_solved = least_squares(fun=equations_to_solve,\n",
    "                                 x0=initial_values,\n",
    "                                 jac='2-point',\n",
    "                                 args=(k,),\n",
    "                                 bounds=boundslu,\n",
    "                                 max_nfev=500,\n",
    "                                 method='trf',\n",
    "                                 loss='linear',\n",
    "                                 tr_solver='exact',\n",
    "                                 tr_options={},\n",
    "                                 verbose=0,\n",
    "                                 ftol=1e-5, xtol=1e-5, gtol=1e-5)\n",
    "\n",
    "\n",
    "        p = x_solved.x\n",
    "        p = np.array(p)\n",
    "        num_x_nonzero_nodes = np.count_nonzero(k)\n",
    "        x_nonzero = p[0:num_x_nonzero_nodes]\n",
    "        x = np.zeros(n_nodes)\n",
    "        x[k != 0] = x_nonzero\n",
    "\n",
    "        x_array = x\n",
    "\n",
    "        return x_array\n",
    "    \n",
    "    return numerically_solve_TN(valori)\n",
    "\n",
    "\n",
    "# This is the likelihood of the CM\n",
    "def likelihood_CM(vec_k,x):\n",
    "    \n",
    "    no_nodes = len(x)\n",
    "    \n",
    "    term1 = 0.\n",
    "    term2 = 0.\n",
    "    for i_node in range(no_nodes):\n",
    "        if vec_k[i_node] == 0:continue\n",
    "        term1 += vec_k[i_node] *np.log(x[i_node])\n",
    "\n",
    "    for i_node in range(no_nodes):\n",
    "        for j_node in range(i_node):\n",
    "            term2 += np.log(1 + x[i_node] * x[j_node])\n",
    "\n",
    "    likelihood = term1 - term2\n",
    "\n",
    "    return  likelihood  \n",
    "\n",
    "# Given a temporal network \"tnet,\" this function returns the average degree associated with each node.\n",
    "def compute_vec_k(tnet):\n",
    "    \n",
    "    no_steps = len(tnet.data)\n",
    "    vec_k = np.zeros(tnet.no_nodes, dtype=np.float64)\n",
    "\n",
    "    for i_step in range(no_steps):\n",
    "        block_id, current_time, g = tnet.data[i_step]\n",
    "        for [n1, n2] in g.edges():\n",
    "            if n1 == n2: continue\n",
    "\n",
    "            vec_k[int(n1)] += 1.\n",
    "            vec_k[int(n2)] += 1.\n",
    "\n",
    "    vec_k /= float(no_steps)\n",
    "    return vec_k"
   ]
  },
  {
   "cell_type": "code",
   "execution_count": 84,
   "metadata": {},
   "outputs": [],
   "source": [
    "import time\n",
    "from scipy.optimize import least_squares\n",
    "\n",
    "import warnings\n",
    "warnings.filterwarnings(\"ignore\")\n",
    "\n",
    "def find_structural_breaks_CM(data,alfa_in):\n",
    "    # Load the entire temporal network from the data\n",
    "    tnet_synt_all = Utilities.TemporalNetworkLoaderSynt(data,0,len(data))\n",
    "\n",
    "    # Solve an equations for the entire network and find the parameters x_cm_all\n",
    "    x_cm_all =  risolvi_eq(compute_vec_k(tnet_synt_all))\n",
    "\n",
    "    # Calculate the likelihood for the whole network\n",
    "    likelihood_CM_all = likelihood_CM(compute_vec_k(tnet_synt_all),x_cm_all)\n",
    "    \n",
    "    AIC_list = []\n",
    "    \n",
    "    # Calculate AIC for the entire network\n",
    "    AIC_all = Utilities.AIC(likelihood_CM_all, len(x_cm_all))\n",
    "    \n",
    "    t_break = 0\n",
    "    AIC_break = 0\n",
    "    \n",
    "    # Iterate over potential break points in the temporal data\n",
    "    for t in range(3,len(data)-2):\n",
    "        start_time = time.time()\n",
    "        \n",
    "        # Load two sub-networks, one before and one after the current time t\n",
    "        tnet_synt_0 = Utilities.TemporalNetworkLoaderSynt(data,0,t)\n",
    "        tnet_synt_1 = Utilities.TemporalNetworkLoaderSynt(data,t,len(data))\n",
    "\n",
    "        # Solve equations for each sub-network\n",
    "        x_cm_0 =  risolvi_eq(compute_vec_k(tnet_synt_0))\n",
    "        x_cm_1 =  risolvi_eq(compute_vec_k(tnet_synt_1))\n",
    "        \n",
    "        # Calculate likelihood for each sub-network\n",
    "        likelihood_CM_0 = likelihood_CM(compute_vec_k(tnet_synt_0),x_cm_0)\n",
    "        likelihood_CM_1 = likelihood_CM(compute_vec_k(tnet_synt_1),x_cm_1)\n",
    "        \n",
    "        # Calculate the AIC difference between the combined sub-networks and the whole network\n",
    "        AIC_diff = Utilities.AIC(likelihood_CM_0+likelihood_CM_1,len(x_cm_all)*2)\n",
    "        AIC_to_check = AIC_diff - AIC_all\n",
    "        \n",
    "        AIC_list.append(AIC_to_check)\n",
    "        \n",
    "        # Update the break point if a lower AIC is found\n",
    "        if AIC_to_check < 0:\n",
    "            if AIC_to_check == -np.infty:\n",
    "                continue\n",
    "            \n",
    "            if AIC_to_check < AIC_break:\n",
    "                AIC_break = AIC_to_check\n",
    "                t_break = t\n",
    "                alfa_break = x_cm_0\n",
    "                beta_break = 1\n",
    "\n",
    "    # Return the AIC at the break point and the time of the break\n",
    "    return AIC_break, t_break"
   ]
  },
  {
   "cell_type": "markdown",
   "metadata": {},
   "source": [
    "### In summary, this function aims to iteratively divide a temporal network data series into increasingly smaller segments, identifying points where there is a significant change in the network's structure. This is done recursively until no further significant break points are found."
   ]
  },
  {
   "cell_type": "code",
   "execution_count": 85,
   "metadata": {},
   "outputs": [],
   "source": [
    "def recoursive_structural_detection(data,alfa):\n",
    "    # Set initial break point to the length of the data\n",
    "    t_break_final = len(data)\n",
    "    \n",
    "    # Call find_structural_breaks_CM to find the first structural break in the data\n",
    "    prova_AIC, t_break = find_structural_breaks_CM(data,alfa)    \n",
    "    \n",
    "     # Check if no break was found\n",
    "    if t_break == 0:\n",
    "        # Return the length of the data as the final break point\n",
    "        return t_break_final  \n",
    "    else:\n",
    "        try:\n",
    "            # If a break is found, recursively call the function on the data up to the break point\n",
    "            return recoursive_structural_detection(data[:t_break],alfa)\n",
    "        except:\n",
    "            # In case of an error, print an error message and return the last found break point\n",
    "            print('error in the execution of recursive_structural_break', 'last t_break = ', t_break)\n",
    "            return t_break"
   ]
  },
  {
   "cell_type": "code",
   "execution_count": 86,
   "metadata": {},
   "outputs": [],
   "source": [
    "alfa_rand = np.random.rand(92) "
   ]
  },
  {
   "cell_type": "markdown",
   "metadata": {},
   "source": [
    "### Function used for detecting structural breaks using the model with node-level constraints."
   ]
  },
  {
   "cell_type": "code",
   "execution_count": 87,
   "metadata": {},
   "outputs": [
    {
     "name": "stdout",
     "output_type": "stream",
     "text": [
      "[0, 244]\n"
     ]
    }
   ],
   "source": [
    "tt = 0\n",
    "t_vec_CM = [0]\n",
    "\n",
    "while tt < len(data):\n",
    "\n",
    "    t_break = recoursive_structural_detection(data[tt:],alfa_rand)\n",
    "\n",
    "    tt += t_break\n",
    "    t_vec_CM.append(tt)\n",
    "    \n",
    "print(t_vec_CM)"
   ]
  },
  {
   "cell_type": "code",
   "execution_count": 89,
   "metadata": {},
   "outputs": [
    {
     "name": "stdout",
     "output_type": "stream",
     "text": [
      "1657.1067483679324\n"
     ]
    }
   ],
   "source": [
    "AIC_all_cm = 0 # Initialize the total AIC to zero\n",
    "\n",
    "# Iterate over each segment identified by the break points\n",
    "for i in range(1,len(t_vec_CM)):\n",
    "    \n",
    "    # Load the network data for the current segment\n",
    "    tnet_ = Utilities.TemporalNetworkLoaderSynt(data[t_vec_CM[i-1]:t_vec_CM[i]],0,len(data))\n",
    "\n",
    "    # Solve the equations for the current segment\n",
    "    x_cm_all =  risolvi_eq(compute_vec_k(tnet_))\n",
    "    \n",
    "    # Calculate the likelihood for the current segment\n",
    "    likelihood_CM_all = likelihood_CM(compute_vec_k(tnet_),x_cm_all)\n",
    "    \n",
    "    # Compute the AIC for the current segment and add it to the total AIC\n",
    "    AIC_all_cm += Utilities.AIC(likelihood_CM_all, len(x_cm_all))\n",
    "\n",
    "# Print the total AIC for all segments\n",
    "print(AIC_all_cm)"
   ]
  },
  {
   "cell_type": "markdown",
   "metadata": {},
   "source": [
    "# Dyadic Structural Breaks"
   ]
  },
  {
   "cell_type": "code",
   "execution_count": 92,
   "metadata": {},
   "outputs": [],
   "source": [
    "import time\n",
    "\n",
    "def find_structural_breaks_link_cm(data):\n",
    "    \n",
    "     # Load the entire temporal network from the data\n",
    "    tnet_synt_all = Utilities.TemporalNetworkLoaderSynt(data,0,len(data))\n",
    "    \n",
    "    n_nodes = tnet_synt_all.no_nodes\n",
    "    \n",
    "    ave_aij_matrix_all = average_link(data[0:len(data)])  \n",
    "    x_ij_all,a_ij_all = compute_a_ij_x_ij(n_nodes,ave_aij_matrix_all)\n",
    "    \n",
    "    \n",
    "    likelihood_all = CM_dyadic_likelihood(n_nodes,x_ij_all,a_ij_all)\n",
    "    \n",
    "    \n",
    "    AIC_list = []\n",
    "    \n",
    "    AIC_all = Utilities.AIC(likelihood_all, 46*91)\n",
    "    \n",
    "    t_break = 0\n",
    "    AIC_break = 0\n",
    "    \n",
    "    for t in range(3,len(data)-2):\n",
    "        \n",
    "        start_time = time.time()\n",
    "        \n",
    "        ave_aij_matrix_1 = average_link(data[0:t])\n",
    "        ave_aij_matrix_0 = average_link(data[t:len(data)])\n",
    "    \n",
    "        x_ij_1,a_ij_1 = compute_a_ij_x_ij(n_nodes,ave_aij_matrix_1)\n",
    "        x_ij_0,a_ij_0 = compute_a_ij_x_ij(n_nodes,ave_aij_matrix_0)\n",
    "        \n",
    "        likelihood_0 = CM_dyadic_likelihood(n_nodes,x_ij_0,a_ij_0)\n",
    "        likelihood_1 = CM_dyadic_likelihood(n_nodes,x_ij_1,a_ij_1)\n",
    "\n",
    "        \n",
    "        AIC_diff = Utilities.AIC(likelihood_0+likelihood_1,(46*91)*2)\n",
    "        AIC_to_check = AIC_diff - AIC_all\n",
    "        \n",
    "        AIC_list.append(AIC_to_check)\n",
    "        if AIC_to_check < 0:\n",
    "            if AIC_to_check == -np.infty:\n",
    "                continue\n",
    "            \n",
    "            if AIC_to_check < AIC_break:\n",
    "                AIC_break = AIC_to_check\n",
    "                t_break = t\n",
    "\n",
    "                print('Break at',t_break,AIC_break)\n",
    "                \n",
    "    return AIC_break, t_break"
   ]
  },
  {
   "cell_type": "code",
   "execution_count": 93,
   "metadata": {},
   "outputs": [],
   "source": [
    "def recoursive_structural_detection_dyadic_cm(data):\n",
    "    # Set initial break point to the length of the data\n",
    "    t_break_final = len(data)\n",
    "    \n",
    "    # Call find_structural_breaks_link_cm to find the first structural break in the data\n",
    "    prova_AIC, t_break = find_structural_breaks_link_cm(data)   \n",
    "    \n",
    "    # Check if no break was found\n",
    "    if t_break == 0:\n",
    "        # Return the length of the data as the final break point\n",
    "        return t_break_final\n",
    "    \n",
    "    else:\n",
    "        try:\n",
    "            # If a break is found, recursively call the function on the data up to the break point\n",
    "            return recoursive_structural_detection_dyadic_cm(data[:t_break])\n",
    "        except:\n",
    "            # In case of an error, print an error message and return the last found break point\n",
    "            print('error in the execution of recursive_structural_break', 'last t_break = ', t_break)\n",
    "            return 'errore'\n",
    "        "
   ]
  },
  {
   "cell_type": "code",
   "execution_count": 94,
   "metadata": {},
   "outputs": [],
   "source": [
    "tt = 0\n",
    "t_vec_dyadic_cm = [0]\n",
    "while tt < len(data):\n",
    "\n",
    "    t_break = recoursive_structural_detection_dyadic_cm(data)\n",
    "    \n",
    "    if type(t_break) == str: \n",
    "        print(t_break)\n",
    "        break\n",
    "    tt += t_break\n",
    "    t_vec_dyadic_cm.append(tt)"
   ]
  },
  {
   "cell_type": "code",
   "execution_count": 95,
   "metadata": {
    "scrolled": true
   },
   "outputs": [
    {
     "data": {
      "text/plain": [
       "[0, 244]"
      ]
     },
     "execution_count": 95,
     "metadata": {},
     "output_type": "execute_result"
    }
   ],
   "source": [
    "t_vec_dyadic_cm"
   ]
  },
  {
   "cell_type": "code",
   "execution_count": 96,
   "metadata": {},
   "outputs": [
    {
     "data": {
      "text/plain": [
       "8260.40011150734"
      ]
     },
     "execution_count": 96,
     "metadata": {},
     "output_type": "execute_result"
    }
   ],
   "source": [
    "x_ij,a_ij = compute_a_ij_x_ij(pnt_likelihood_naive.no_nodes,ave_aij_matrix)\n",
    "\n",
    "likelihood_all = CM_dyadic_likelihood(pnt_likelihood_naive.no_nodes,x_ij,a_ij)\n",
    "\n",
    "Utilities.AIC(likelihood_all,46*91)"
   ]
  },
  {
   "cell_type": "markdown",
   "metadata": {},
   "source": [
    "# Global Structural Breaks"
   ]
  },
  {
   "cell_type": "code",
   "execution_count": 30,
   "metadata": {},
   "outputs": [],
   "source": [
    "def compute_likelihood_global_cm(no_nodes,vec_k):\n",
    "    \n",
    "    ave_k = np.sum(vec_k)/no_nodes\n",
    "\n",
    "    x_c_glob = ave_k/(no_nodes -1-ave_k)\n",
    "\n",
    "    ave_aij_matrix = average_link(data)\n",
    "\n",
    "    termine_1 = 0\n",
    "    termine_2 = 0\n",
    "\n",
    "    for i in range(no_nodes):\n",
    "\n",
    "        for j in range(i):\n",
    "\n",
    "\n",
    "            termine_1 +=  np.log(x_c_glob) * ave_aij_matrix[i,j] # H\n",
    "            termine_2 +=  np.log(1 + x_c_glob) \n",
    "\n",
    "    return termine_1 - termine_2 "
   ]
  },
  {
   "cell_type": "code",
   "execution_count": 31,
   "metadata": {},
   "outputs": [],
   "source": [
    "tnet_synt_all = Utilities.TemporalNetworkLoaderSynt(data,0,len(data))\n",
    "likelihood_all = compute_likelihood_global_cm(tnet_synt_all.no_nodes,compute_vec_k(tnet_synt_all))\n"
   ]
  },
  {
   "cell_type": "code",
   "execution_count": 97,
   "metadata": {},
   "outputs": [],
   "source": [
    "import time\n",
    "\n",
    "def find_structural_breaks_global_cm(data):\n",
    "    \n",
    "    tnet_synt_all = Utilities.TemporalNetworkLoaderSynt(data,0,len(data))\n",
    "    \n",
    "    likelihood_all = compute_likelihood_global_cm(tnet_synt_all.no_nodes,compute_vec_k(tnet_synt_all))\n",
    "       \n",
    "    AIC_list = []\n",
    "    \n",
    "    \n",
    "    AIC_all = Utilities.AIC(likelihood_all,1)\n",
    "    \n",
    "    t_break = 0\n",
    "    AIC_break = 0\n",
    "    \n",
    "    for t in range(3,len(data)-2):\n",
    "        \n",
    "        start_time = time.time()\n",
    "        \n",
    "        tnet_synt_0 = Utilities.TemporalNetworkLoaderSynt(data,0,t)        \n",
    "        tnet_synt_1 = Utilities.TemporalNetworkLoaderSynt(data,t,len(data))\n",
    "\n",
    "\n",
    "        likelihood_0 = compute_likelihood_global_cm(tnet_synt_0.no_nodes,compute_vec_k(tnet_synt_0))\n",
    "        likelihood_1 = compute_likelihood_global_cm(tnet_synt_1.no_nodes,compute_vec_k(tnet_synt_1))\n",
    "\n",
    "        \n",
    "        AIC_diff = Utilities.AIC(likelihood_0+likelihood_1,2)        \n",
    "        AIC_to_check = AIC_diff - AIC_all\n",
    "        \n",
    "        AIC_list.append(AIC_to_check)\n",
    "        if AIC_to_check < 0:\n",
    "            if AIC_to_check == -np.infty:\n",
    "                continue\n",
    "            \n",
    "            if AIC_to_check < AIC_break:\n",
    "                AIC_break = AIC_to_check\n",
    "                t_break = t\n",
    "\n",
    "                \n",
    "    return AIC_break, t_break"
   ]
  },
  {
   "cell_type": "code",
   "execution_count": 98,
   "metadata": {},
   "outputs": [],
   "source": [
    "def recoursive_structural_detection_global(data):\n",
    "    \n",
    "    t_break_final = len(data)\n",
    "      \n",
    "    prova_AIC, t_break = find_structural_breaks_global_cm(data)\n",
    "\n",
    "    if t_break == 0:\n",
    "        \n",
    "        return t_break_final\n",
    "    \n",
    "    else:\n",
    "        try:\n",
    "            return recoursive_structural_detection_global(data[:t_break])\n",
    "        except:\n",
    "            print('error in the execution of recursive_structural_break', 'last t_break = ', t_break)\n",
    "            return 'errore'\n",
    "        "
   ]
  },
  {
   "cell_type": "code",
   "execution_count": 99,
   "metadata": {},
   "outputs": [],
   "source": [
    "tt = 0\n",
    "t_vec_global = [0]\n",
    "while tt < len(data):\n",
    "\n",
    "    t_break = recoursive_structural_detection_global(data[tt:])\n",
    "    \n",
    "    if type(t_break) == str: \n",
    "        #print(t_break)\n",
    "        break\n",
    "    tt += t_break\n",
    "    t_vec_global.append(tt)"
   ]
  },
  {
   "cell_type": "code",
   "execution_count": 100,
   "metadata": {},
   "outputs": [
    {
     "data": {
      "text/plain": [
       "[0, 244]"
      ]
     },
     "execution_count": 100,
     "metadata": {},
     "output_type": "execute_result"
    }
   ],
   "source": [
    "t_vec_global"
   ]
  },
  {
   "cell_type": "code",
   "execution_count": 101,
   "metadata": {},
   "outputs": [
    {
     "data": {
      "text/plain": [
       "1716.39640546131"
      ]
     },
     "execution_count": 101,
     "metadata": {},
     "output_type": "execute_result"
    }
   ],
   "source": [
    "tnet_synt_all = Utilities.TemporalNetworkLoaderSynt(data,0,len(data))\n",
    "likelihood_all = compute_likelihood_global_cm(tnet_synt_all.no_nodes,compute_vec_k(tnet_synt_all))\n",
    "\n",
    "\n",
    "Utilities.AIC(likelihood_all,1)"
   ]
  }
 ],
 "metadata": {
  "kernelspec": {
   "display_name": "Python 3",
   "language": "python",
   "name": "python3"
  },
  "language_info": {
   "codemirror_mode": {
    "name": "ipython",
    "version": 3
   },
   "file_extension": ".py",
   "mimetype": "text/x-python",
   "name": "python",
   "nbconvert_exporter": "python",
   "pygments_lexer": "ipython3",
   "version": "3.8.3"
  }
 },
 "nbformat": 4,
 "nbformat_minor": 4
}
