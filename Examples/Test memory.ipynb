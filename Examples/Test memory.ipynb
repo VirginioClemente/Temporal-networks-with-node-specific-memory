{
 "cells": [
  {
   "cell_type": "markdown",
   "metadata": {},
   "source": [
    "# Test Models with memory"
   ]
  },
  {
   "cell_type": "markdown",
   "metadata": {},
   "source": [
    "To test the models I check whether the constraints imposed are well reproduced."
   ]
  },
  {
   "cell_type": "code",
   "execution_count": 42,
   "metadata": {},
   "outputs": [],
   "source": [
    "import pandas as pd\n",
    "import numpy as np\n",
    "import networkx as nx\n",
    "import seaborn as sns, matplotlib.pyplot as plt, operator as op\n",
    "import os\n",
    "\n",
    "import Utilities\n",
    "from NaiveTCM import NaiveNetFitness\n",
    "from PersistenceNetFitnessGlobal import PersistenceNetFitnessGlobal\n",
    "from PersistenceNetFitness import PersistenceNetFitness\n",
    "from PersistenceNetFitnesslinks import PersistenceNetFitnesslinks"
   ]
  },
  {
   "cell_type": "code",
   "execution_count": 43,
   "metadata": {
    "collapsed": true
   },
   "outputs": [
    {
     "name": "stdout",
     "output_type": "stream",
     "text": [
      "[Errno 2] No such file or directory: '../Structural Break and Reconstruction Social Networks/temporal_networks_daily'\n",
      "/home/virginio.clemente/Structural Break and Reconstruction Social Networks/temporal_networks_daily\n"
     ]
    }
   ],
   "source": [
    "#cd ../Structural Break and Reconstruction Social Networks/temporal_networks_daily"
   ]
  },
  {
   "cell_type": "markdown",
   "metadata": {},
   "source": [
    "### Uploading the data"
   ]
  },
  {
   "cell_type": "code",
   "execution_count": 101,
   "metadata": {},
   "outputs": [],
   "source": [
    "data = []\n",
    "\n",
    "for file in os.listdir():\n",
    "    if 'checkpoints' in file: continue\n",
    "    step = int(file.split('_')[1].split('.')[0])\n",
    "    matrix = np.genfromtxt(file,delimiter=',')\n",
    "    G = nx.from_numpy_matrix(matrix)\n",
    "    data.append([step , G ]) \n",
    "\n",
    "data.sort()"
   ]
  },
  {
   "cell_type": "markdown",
   "metadata": {},
   "source": [
    "# Here I verify that all the models reproduce the constrained features"
   ]
  },
  {
   "cell_type": "code",
   "execution_count": 22,
   "metadata": {},
   "outputs": [],
   "source": [
    "tnet_synt_all = Utilities.TemporalNetworkLoaderSynt(data,0,50)"
   ]
  },
  {
   "cell_type": "code",
   "execution_count": 28,
   "metadata": {},
   "outputs": [],
   "source": [
    "# I initialize the value of alfa and beta randomly\n",
    "alfa_rand = np.random.rand(92) \n",
    "beta_rand =np.random.rand(92) "
   ]
  },
  {
   "cell_type": "markdown",
   "metadata": {},
   "source": [
    "# Model with local Constraints"
   ]
  },
  {
   "cell_type": "code",
   "execution_count": 29,
   "metadata": {},
   "outputs": [
    {
     "name": "stdout",
     "output_type": "stream",
     "text": [
      "CONVERGENCE: REL_REDUCTION_OF_F_<=_FACTR*EPSMCH\n"
     ]
    },
    {
     "data": {
      "text/plain": [
       "30205.10369099729"
      ]
     },
     "execution_count": 29,
     "metadata": {},
     "output_type": "execute_result"
    }
   ],
   "source": [
    "pnt_likelihood_TCM = PersistenceNetFitness(tnet_synt_all)\n",
    "\n",
    "pnt_likelihood_TCM.solve(alfa_rand,beta_rand)"
   ]
  },
  {
   "cell_type": "markdown",
   "metadata": {},
   "source": [
    "### I compute the expected values of k and h w.r.t. the model with local Constraints"
   ]
  },
  {
   "cell_type": "code",
   "execution_count": 30,
   "metadata": {},
   "outputs": [],
   "source": [
    "k_exp =  np.zeros( pnt_likelihood_TCM.no_nodes )\n",
    "h_exp =  np.zeros( pnt_likelihood_TCM.no_nodes )\n",
    "\n",
    "y = pnt_likelihood_TCM.fitness_y\n",
    "x = pnt_likelihood_TCM.fitness_x\n",
    "tau = 1\n",
    "\n",
    "T = pnt_likelihood_TCM.no_steps\n",
    "\n",
    "\n",
    "lambda_minus = pnt_likelihood_TCM.lambda_minus \n",
    "lambda_plus = pnt_likelihood_TCM.lambda_plus\n",
    "for i in range(pnt_likelihood_TCM.no_nodes):\n",
    "    for j in range(pnt_likelihood_TCM.no_nodes):\n",
    "        if i == j:\n",
    "            continue\n",
    "\n",
    "        \n",
    "        root = np.sqrt(np.exp(-1*(np.log(y[i]) + np.log(y[j]))) + np.sinh(1/(2)*(np.log(x[i])+np.log(x[j]) +np.log(y[i]) +np.log(y[j])))**2 )                   \n",
    "        sinhB = np.sinh(1/(2) * (np.log(x[i])+np.log(x[j]) +np.log(y[i]) +np.log(y[j])))\n",
    "\n",
    "        coshB = np.cosh(1/(2) * (np.log(x[i])+np.log(x[j]) +np.log(y[i]) +np.log(y[j])))\n",
    "\n",
    "        e_2B = np.exp(-1 * (np.log(x[i])+np.log(x[j]) +np.log(y[i]) +np.log(y[j])))\n",
    "        e_B = np.exp(-1/2 * (np.log(x[i])+np.log(x[j]) +np.log(y[i]) +np.log(y[j])))\n",
    "\n",
    "        eJ = np.exp(1/(4)*(np.log(y[i]) + np.log(y[j])))\n",
    "\n",
    "\n",
    "        sigma_l_t = (sinhB) / ( 2*root) + 1/2 \n",
    "\n",
    "        k_exp[i] += eJ/(2*(lambda_minus[i,j]**T + lambda_plus[i,j]**T)) * ( lambda_plus[i,j]**(T-1)*(sinhB + (sinhB*coshB)/root ) + lambda_minus[i,j]**(T-1)*(sinhB - (sinhB*coshB)/root )  ) +1/2 # N.T.L.\n",
    "\n",
    "        h_exp [i] += sigma_l_t**2 + (1-sigma_l_t)*sigma_l_t*(lambda_minus[i,j]**tau*lambda_plus[i,j]**(T-tau) + lambda_plus[i,j]**tau*lambda_minus[i,j]**(T-tau) )/(lambda_minus[i,j]**T + lambda_plus[i,j]**T ) # N.T.L.\n",
    "\n"
   ]
  },
  {
   "cell_type": "code",
   "execution_count": 31,
   "metadata": {},
   "outputs": [
    {
     "data": {
      "image/png": "[encoded data removed]",
      "text/plain": [
       "<Figure size 432x288 with 1 Axes>"
      ]
     },
     "metadata": {
      "needs_background": "light"
     },
     "output_type": "display_data"
    }
   ],
   "source": [
    "plt.xlabel('real values of h')\n",
    "plt.ylabel('estimated values of h')\n",
    "plt.scatter(h_exp,pnt_likelihood_TCM.vec_h)\n",
    "plt.plot([0, 16], [0, 16], ls=\"--\", c=\"0\")\n",
    "plt.show()"
   ]
  },
  {
   "cell_type": "code",
   "execution_count": 32,
   "metadata": {},
   "outputs": [
    {
     "data": {
      "image/png": "[encoded data removed]",
      "text/plain": [
       "<Figure size 432x288 with 1 Axes>"
      ]
     },
     "metadata": {
      "needs_background": "light"
     },
     "output_type": "display_data"
    }
   ],
   "source": [
    "plt.xlabel('real values of k')\n",
    "plt.ylabel('estimated values of k')\n",
    "plt.scatter(k_exp,pnt_likelihood_TCM.vec_k)\n",
    "plt.plot([0, 16], [0, 16], ls=\"--\", c=\"0\")\n",
    "plt.show()"
   ]
  },
  {
   "cell_type": "markdown",
   "metadata": {},
   "source": [
    "# Model with constraints on the presisting connectivity $(h_{ij})$"
   ]
  },
  {
   "cell_type": "code",
   "execution_count": 33,
   "metadata": {},
   "outputs": [],
   "source": [
    "pnt_likelihood_link = PersistenceNetFitnesslinks(tnet_synt_all) \n",
    "\n",
    "alfa_random_link = np.random.rand(92) \n",
    "beta_random_link =np.random.rand(46*91) "
   ]
  },
  {
   "cell_type": "code",
   "execution_count": 34,
   "metadata": {},
   "outputs": [
    {
     "name": "stdout",
     "output_type": "stream",
     "text": [
      "CONVERGENCE: REL_REDUCTION_OF_F_<=_FACTR*EPSMCH\n"
     ]
    },
    {
     "data": {
      "text/plain": [
       "27524.24210266507"
      ]
     },
     "execution_count": 34,
     "metadata": {},
     "output_type": "execute_result"
    }
   ],
   "source": [
    "pnt_likelihood_link.solve(alfa_random_link,beta_random_link)"
   ]
  },
  {
   "cell_type": "code",
   "execution_count": 35,
   "metadata": {},
   "outputs": [
    {
     "data": {
      "image/png": "[encoded data removed]",
      "text/plain": [
       "<Figure size 432x288 with 1 Axes>"
      ]
     },
     "metadata": {
      "needs_background": "light"
     },
     "output_type": "display_data"
    },
    {
     "data": {
      "image/png": "[encoded data removed]",
      "text/plain": [
       "<Figure size 432x288 with 1 Axes>"
      ]
     },
     "metadata": {
      "needs_background": "light"
     },
     "output_type": "display_data"
    }
   ],
   "source": [
    "from sklearn.metrics import mean_squared_error\n",
    "\n",
    "tnet_synt_all = Utilities.TemporalNetworkLoaderSynt(data,0,50)\n",
    "\n",
    "alfa_link = pnt_likelihood_link.fitness_alpha   \n",
    "beta_link =  pnt_likelihood_link.fitness_beta\n",
    "\n",
    "\n",
    "y_link = pnt_likelihood_link.fitness_y \n",
    "y_matrix = np.zeros((pnt_likelihood_link.no_nodes,pnt_likelihood_link.no_nodes))\n",
    "\n",
    "ij = 0\n",
    "for i in range(pnt_likelihood_link.no_nodes):\n",
    "    for j in range(i):\n",
    "\n",
    "        y_matrix[i,j] = y_link[ij]\n",
    "        y_matrix[j,i] = y_matrix[i,j]\n",
    "\n",
    "        ij +=1\n",
    "\n",
    "x = pnt_likelihood_link.fitness_x \n",
    "n_nodes =  pnt_likelihood_link.no_nodes\n",
    "\n",
    "\n",
    "k_exp =  np.zeros( pnt_likelihood_link.no_nodes )\n",
    "h_exp =  np.zeros( pnt_likelihood_link.no_nodes )\n",
    "\n",
    "\n",
    "T = pnt_likelihood_link.no_steps\n",
    "\n",
    "\n",
    "lambda_minus = pnt_likelihood_link.lambda_minus \n",
    "lambda_plus = pnt_likelihood_link.lambda_plus\n",
    "for i in range(pnt_likelihood_link.no_nodes):\n",
    "    for j in range(pnt_likelihood_link.no_nodes):\n",
    "        if i == j:\n",
    "            continue\n",
    "\n",
    "        y_ij = y_matrix[i,j]\n",
    "        root = np.sqrt(np.exp(-1*(np.log(y_ij, dtype=np.float128)), dtype=np.float128) + np.sinh(1/(2)*(np.log(x[i], dtype=np.float128)+np.log(x[j], dtype=np.float128) +np.log(y_ij) ), dtype=np.float128)**2 )                   \n",
    "        sinhB = np.sinh(1/(2) * (np.log(x[i], dtype=np.float128)+np.log(x[j], dtype=np.float128) +np.log(y_ij, dtype=np.float128) ), dtype=np.float128)\n",
    "\n",
    "        coshB = np.cosh(1/(2) * (np.log(x[i], dtype=np.float128)+np.log(x[j], dtype=np.float128) +np.log(y_ij) ), dtype=np.float128)\n",
    "\n",
    "        e_2B = np.exp(-1 * (np.log(x[i])+np.log(x[j]) +np.log(y_ij)), dtype=np.float128)\n",
    "        e_B = np.exp(-1/2 * (np.log(x[i])+np.log(x[j]) +np.log(y_ij)), dtype=np.float128)\n",
    "\n",
    "        eJ = np.exp(1/(4)*(np.log(y_ij)), dtype=np.float128)\n",
    "\n",
    "        sigma_l_t = (sinhB) / ( 2*root) + 1/2 \n",
    "\n",
    "        k_exp[i] += eJ/(2*(lambda_minus[i,j]**T + lambda_plus[i,j]**T)) * ( lambda_plus[i,j]**(T-1)*(sinhB + (sinhB*coshB)/root ) + lambda_minus[i,j]**(T-1)*(sinhB - (sinhB*coshB)/root )  ) +1/2 # N.T.L.\n",
    "\n",
    "        h_exp [i] += sigma_l_t**2 + (1-sigma_l_t)*sigma_l_t*(lambda_minus[i,j]*lambda_plus[i,j]**(T-1) + lambda_plus[i,j]*lambda_minus[i,j]**(T-1) )/(lambda_minus[i,j]**T + lambda_plus[i,j]**T ) # N.T.L.\n",
    "\n",
    "\n",
    "plt.scatter(pnt_likelihood_link.vec_h, h_exp)\n",
    "plt.plot([0, 11], [0, 11], ls=\"--\", c=\"0\")\n",
    "plt.xlabel('real values of h')\n",
    "plt.ylabel('estimated values of h')\n",
    "plt.show()\n",
    "\n",
    "\n",
    "plt.scatter(pnt_likelihood_link.vec_k, k_exp)\n",
    "plt.plot([0, 15], [0, 15], ls=\"--\", c=\"0\")\n",
    "plt.xlabel('real values of k')\n",
    "plt.ylabel('estimated values of k')\n",
    "plt.show()\n"
   ]
  },
  {
   "cell_type": "markdown",
   "metadata": {},
   "source": [
    "# Model with Global Contraint"
   ]
  },
  {
   "cell_type": "markdown",
   "metadata": {},
   "source": [
    "### In this case the lagrange multiplier is one and controls the value of the average degree"
   ]
  },
  {
   "cell_type": "code",
   "execution_count": 36,
   "metadata": {},
   "outputs": [],
   "source": [
    "pnt_likelihood_global = PersistenceNetFitnessGlobal(tnet_synt_all)"
   ]
  },
  {
   "cell_type": "code",
   "execution_count": 51,
   "metadata": {},
   "outputs": [
    {
     "name": "stdout",
     "output_type": "stream",
     "text": [
      "CONVERGENCE: REL_REDUCTION_OF_F_<=_FACTR*EPSMCH\n"
     ]
    },
    {
     "data": {
      "text/plain": [
       "967.4404158687103"
      ]
     },
     "execution_count": 51,
     "metadata": {},
     "output_type": "execute_result"
    }
   ],
   "source": [
    "alfa_rand_global = np.random.rand(92) \n",
    "beta_rand_global = np.random.rand(1)\n",
    "\n",
    "\n",
    "pnt_likelihood_global.solve(alfa_rand_global,beta_rand_global)"
   ]
  },
  {
   "cell_type": "code",
   "execution_count": 105,
   "metadata": {},
   "outputs": [],
   "source": [
    "y = pnt_likelihood_global.fitness_y\n",
    "x = pnt_likelihood_global.fitness_x\n",
    "\n",
    "k_exp =  np.zeros( pnt_likelihood_global.no_nodes )\n",
    "h_exp =  np.zeros( pnt_likelihood_global.no_nodes )\n",
    "h_ave = np.zeros(1)\n",
    "\n",
    "T = pnt_likelihood_global.no_steps\n",
    "\n",
    "lambda_plus = pnt_likelihood_global.lambda_plus\n",
    "lambda_minus = pnt_likelihood_global.lambda_minus            \n",
    "\n",
    "for i in range(pnt_likelihood_global.no_nodes):\n",
    "    for j in range(pnt_likelihood_global.no_nodes):\n",
    "        if i == j:\n",
    "            continue\n",
    "            \n",
    "        root = np.sqrt(np.exp(-1*(np.log(y[0]) + np.log(y[0]))) + np.sinh(1/(2)*(np.log(x[i])+np.log(x[j]) +np.log(y[0]) +np.log(y[0])))**2 )                   \n",
    "        sinhB = np.sinh(1/(2) * (np.log(x[i])+np.log(x[j]) +np.log(y[0]) +np.log(y[0])))\n",
    "\n",
    "        coshB = np.cosh(1/(2) * (np.log(x[i])+np.log(x[j]) +np.log(y[0]) +np.log(y[0])))\n",
    "\n",
    "        e_2B = np.exp(-1 * (np.log(x[i])+np.log(x[j]) +np.log(y[0]) +np.log(y[0])))\n",
    "        e_B = np.exp(-1/2 * (np.log(x[i])+np.log(x[j]) +np.log(y[0]) +np.log(y[0])))\n",
    "\n",
    "        eJ = np.exp(1/(4)*(np.log(y[0]) + np.log(y[0])))\n",
    "\n",
    "        sigma_l_t = (sinhB) / ( 2*root) + 1/2 \n",
    "\n",
    "        k_exp[i] += eJ/(2*(lambda_minus[i,j]**T + lambda_plus[i,j]**T)) * ( lambda_plus[i,j]**(T-1)*(sinhB + (sinhB*coshB)/root ) + lambda_minus[i,j]**(T-1)*(sinhB - (sinhB*coshB)/root )  ) +1/2 # N.T.L.\n",
    "\n",
    "        h_exp [i] += sigma_l_t**2 + (1-sigma_l_t)*sigma_l_t*(lambda_minus[i,j]*lambda_plus[i,j]**(T-1) + lambda_plus[i,j]*lambda_minus[i,j]**(T-1) )/(lambda_minus[i,j]**T + lambda_plus[i,j]**T ) # N.T.L.\n",
    "\n",
    "h_ave =  np.sum(h_exp)/pnt_likelihood_global.no_nodes"
   ]
  },
  {
   "cell_type": "code",
   "execution_count": 106,
   "metadata": {},
   "outputs": [
    {
     "data": {
      "text/plain": [
       "2.2044464443302725"
      ]
     },
     "execution_count": 106,
     "metadata": {},
     "output_type": "execute_result"
    }
   ],
   "source": [
    "h_ave"
   ]
  },
  {
   "cell_type": "code",
   "execution_count": 107,
   "metadata": {},
   "outputs": [
    {
     "data": {
      "text/plain": [
       "2.2013043478260874"
      ]
     },
     "execution_count": 107,
     "metadata": {},
     "output_type": "execute_result"
    }
   ],
   "source": [
    "pnt_likelihood_global.average_h"
   ]
  },
  {
   "cell_type": "markdown",
   "metadata": {},
   "source": [
    "# Computing AIC Total "
   ]
  },
  {
   "cell_type": "markdown",
   "metadata": {},
   "source": [
    "The following contains the list of all the breaks found for each model."
   ]
  },
  {
   "cell_type": "code",
   "execution_count": 45,
   "metadata": {},
   "outputs": [],
   "source": [
    "cm_breaks = [0,244] \n",
    "\n",
    "dyadic_breaks = [0, 50, 100, 150, 200, 244]\n",
    "\n",
    "local_breaks = [0, 8, 15, 19, 24, 36, 43, 49, 61, 77, 99, 109, 116, 126, 143, 150, 165, 177, 193, 214, 231, 244]\n",
    "\n",
    "global_breaks = [0, 8, 15, 18, 24, 31, 36, 43, 49, 60, 63, 68, 77, 99, 109, 116, 126, 134, 142, 150, 165, 177, 193, 214, 231, 244]"
   ]
  },
  {
   "cell_type": "markdown",
   "metadata": {},
   "source": [
    "### AIC Dyadic Constraints"
   ]
  },
  {
   "cell_type": "code",
   "execution_count": 46,
   "metadata": {},
   "outputs": [
    {
     "name": "stdout",
     "output_type": "stream",
     "text": [
      "CONVERGENCE: REL_REDUCTION_OF_F_<=_FACTR*EPSMCH\n"
     ]
    },
    {
     "name": "stderr",
     "output_type": "stream",
     "text": [
      "/home/virginio.clemente/Versione finale codici TN/PersistenceNetFitnesslinks.py:198: RuntimeWarning: overflow encountered in power\n",
      "  np.power(self.lambda_plus[i, j], T, dtype=np.float64) + np.power(\n",
      "/home/virginio.clemente/Versione finale codici TN/PersistenceNetFitnesslinks.py:219: RuntimeWarning: overflow encountered in power\n",
      "  np.power(self.lambda_plus[i, j], T, dtype=np.float64) + np.power(\n"
     ]
    },
    {
     "name": "stdout",
     "output_type": "stream",
     "text": [
      "CONVERGENCE: REL_REDUCTION_OF_F_<=_FACTR*EPSMCH\n",
      "CONVERGENCE: REL_REDUCTION_OF_F_<=_FACTR*EPSMCH\n",
      "CONVERGENCE: REL_REDUCTION_OF_F_<=_FACTR*EPSMCH\n",
      "CONVERGENCE: REL_REDUCTION_OF_F_<=_FACTR*EPSMCH\n"
     ]
    }
   ],
   "source": [
    "aic_total_dyadic = 0\n",
    "\n",
    "for i in range(1,len(dyadic_breaks)):\n",
    "\n",
    "    tnet_synt_all = Utilities.TemporalNetworkLoaderSynt(data[dyadic_breaks[i-1]:dyadic_breaks[i]],0,len(data))\n",
    "    \n",
    "    pnt_likelihood_link = PersistenceNetFitnesslinks(tnet_synt_all)\n",
    "    \n",
    "    likelihood_link = pnt_likelihood_link.solve(alfa_random_link,beta_random_link)\n",
    "    \n",
    "    aic_total_dyadic += Utilities.AIC(-likelihood_link,(len(alfa_random_link)+(46*91))*2)"
   ]
  },
  {
   "cell_type": "code",
   "execution_count": 47,
   "metadata": {},
   "outputs": [
    {
     "name": "stdout",
     "output_type": "stream",
     "text": [
      "336021.35131644516\n"
     ]
    }
   ],
   "source": [
    "print(aic_total_dyadic)"
   ]
  },
  {
   "cell_type": "markdown",
   "metadata": {},
   "source": [
    "### AIC Local Constraints"
   ]
  },
  {
   "cell_type": "code",
   "execution_count": 48,
   "metadata": {},
   "outputs": [
    {
     "name": "stdout",
     "output_type": "stream",
     "text": [
      "CONVERGENCE: REL_REDUCTION_OF_F_<=_FACTR*EPSMCH\n",
      "CONVERGENCE: REL_REDUCTION_OF_F_<=_FACTR*EPSMCH\n",
      "CONVERGENCE: REL_REDUCTION_OF_F_<=_FACTR*EPSMCH\n",
      "CONVERGENCE: REL_REDUCTION_OF_F_<=_FACTR*EPSMCH\n",
      "CONVERGENCE: REL_REDUCTION_OF_F_<=_FACTR*EPSMCH\n",
      "CONVERGENCE: REL_REDUCTION_OF_F_<=_FACTR*EPSMCH\n",
      "CONVERGENCE: REL_REDUCTION_OF_F_<=_FACTR*EPSMCH\n",
      "CONVERGENCE: REL_REDUCTION_OF_F_<=_FACTR*EPSMCH\n",
      "CONVERGENCE: REL_REDUCTION_OF_F_<=_FACTR*EPSMCH\n",
      "CONVERGENCE: REL_REDUCTION_OF_F_<=_FACTR*EPSMCH\n",
      "CONVERGENCE: REL_REDUCTION_OF_F_<=_FACTR*EPSMCH\n",
      "CONVERGENCE: REL_REDUCTION_OF_F_<=_FACTR*EPSMCH\n",
      "CONVERGENCE: REL_REDUCTION_OF_F_<=_FACTR*EPSMCH\n",
      "CONVERGENCE: REL_REDUCTION_OF_F_<=_FACTR*EPSMCH\n",
      "CONVERGENCE: REL_REDUCTION_OF_F_<=_FACTR*EPSMCH\n",
      "CONVERGENCE: REL_REDUCTION_OF_F_<=_FACTR*EPSMCH\n",
      "CONVERGENCE: REL_REDUCTION_OF_F_<=_FACTR*EPSMCH\n",
      "CONVERGENCE: REL_REDUCTION_OF_F_<=_FACTR*EPSMCH\n",
      "CONVERGENCE: REL_REDUCTION_OF_F_<=_FACTR*EPSMCH\n",
      "CONVERGENCE: REL_REDUCTION_OF_F_<=_FACTR*EPSMCH\n",
      "CONVERGENCE: REL_REDUCTION_OF_F_<=_FACTR*EPSMCH\n"
     ]
    }
   ],
   "source": [
    "AIC_tot_local = 0\n",
    "\n",
    "for t_break in range(len(local_breaks)-1):\n",
    "    \n",
    "    input_data = data[local_breaks[t_break]:local_breaks[t_break+1]]\n",
    "    \n",
    "    tnet_synt = Utilities.TemporalNetworkLoaderSynt(input_data,0,len(input_data))\n",
    "    \n",
    "    pnt_likelihood_local = PersistenceNetFitness(tnet_synt)\n",
    "    \n",
    "    likelihood_local = pnt_likelihood_local.solve(alfa_rand,beta_rand)\n",
    "    \n",
    "    AIC_local = Utilities.AIC(-likelihood_local,2*len(alfa_rand))\n",
    "    \n",
    "    AIC_tot_local += AIC_local\n",
    "    "
   ]
  },
  {
   "cell_type": "code",
   "execution_count": 49,
   "metadata": {},
   "outputs": [
    {
     "name": "stdout",
     "output_type": "stream",
     "text": [
      "268522.79393198807\n"
     ]
    }
   ],
   "source": [
    "print(AIC_tot_local)"
   ]
  },
  {
   "cell_type": "markdown",
   "metadata": {},
   "source": [
    "### AIC Global Constrains"
   ]
  },
  {
   "cell_type": "code",
   "execution_count": 52,
   "metadata": {
    "scrolled": true
   },
   "outputs": [
    {
     "name": "stdout",
     "output_type": "stream",
     "text": [
      "CONVERGENCE: REL_REDUCTION_OF_F_<=_FACTR*EPSMCH\n",
      "CONVERGENCE: REL_REDUCTION_OF_F_<=_FACTR*EPSMCH\n",
      "CONVERGENCE: REL_REDUCTION_OF_F_<=_FACTR*EPSMCH\n",
      "CONVERGENCE: REL_REDUCTION_OF_F_<=_FACTR*EPSMCH\n",
      "CONVERGENCE: REL_REDUCTION_OF_F_<=_FACTR*EPSMCH\n",
      "CONVERGENCE: REL_REDUCTION_OF_F_<=_FACTR*EPSMCH\n",
      "CONVERGENCE: REL_REDUCTION_OF_F_<=_FACTR*EPSMCH\n",
      "CONVERGENCE: REL_REDUCTION_OF_F_<=_FACTR*EPSMCH\n",
      "CONVERGENCE: REL_REDUCTION_OF_F_<=_FACTR*EPSMCH\n",
      "CONVERGENCE: REL_REDUCTION_OF_F_<=_FACTR*EPSMCH\n",
      "CONVERGENCE: REL_REDUCTION_OF_F_<=_FACTR*EPSMCH\n",
      "CONVERGENCE: REL_REDUCTION_OF_F_<=_FACTR*EPSMCH\n",
      "CONVERGENCE: REL_REDUCTION_OF_F_<=_FACTR*EPSMCH\n",
      "CONVERGENCE: REL_REDUCTION_OF_F_<=_FACTR*EPSMCH\n",
      "CONVERGENCE: REL_REDUCTION_OF_F_<=_FACTR*EPSMCH\n",
      "CONVERGENCE: REL_REDUCTION_OF_F_<=_FACTR*EPSMCH\n",
      "CONVERGENCE: REL_REDUCTION_OF_F_<=_FACTR*EPSMCH\n",
      "CONVERGENCE: REL_REDUCTION_OF_F_<=_FACTR*EPSMCH\n",
      "CONVERGENCE: REL_REDUCTION_OF_F_<=_FACTR*EPSMCH\n",
      "CONVERGENCE: REL_REDUCTION_OF_F_<=_FACTR*EPSMCH\n",
      "CONVERGENCE: REL_REDUCTION_OF_F_<=_FACTR*EPSMCH\n",
      "CONVERGENCE: REL_REDUCTION_OF_F_<=_FACTR*EPSMCH\n",
      "CONVERGENCE: REL_REDUCTION_OF_F_<=_FACTR*EPSMCH\n",
      "CONVERGENCE: REL_REDUCTION_OF_F_<=_FACTR*EPSMCH\n",
      "CONVERGENCE: REL_REDUCTION_OF_F_<=_FACTR*EPSMCH\n"
     ]
    }
   ],
   "source": [
    "AIC_tot_global = 0\n",
    "\n",
    "for t_break in range(len(global_breaks)-1):\n",
    "    \n",
    "    input_data = data[global_breaks[t_break]:global_breaks[t_break+1]]\n",
    "    \n",
    "    tnet_synt = Utilities.TemporalNetworkLoaderSynt(input_data,0,len(input_data))\n",
    "    \n",
    "    pnt_likelihood_global = PersistenceNetFitnessGlobal(tnet_synt)\n",
    "    \n",
    "    likelihood_global = pnt_likelihood_global.solve(alfa_rand,beta_rand_global)\n",
    "    \n",
    "    AIC_global = Utilities.AIC(-likelihood_global,len(alfa_rand)+1)\n",
    "    \n",
    "    AIC_tot_global += AIC_global\n",
    "    "
   ]
  },
  {
   "cell_type": "code",
   "execution_count": 53,
   "metadata": {},
   "outputs": [
    {
     "name": "stdout",
     "output_type": "stream",
     "text": [
      "272456.5532256635\n"
     ]
    }
   ],
   "source": [
    "print(AIC_tot_global)"
   ]
  },
  {
   "cell_type": "markdown",
   "metadata": {},
   "source": [
    "### AIC No memory CM "
   ]
  },
  {
   "cell_type": "code",
   "execution_count": 62,
   "metadata": {},
   "outputs": [
    {
     "name": "stdout",
     "output_type": "stream",
     "text": [
      "`gtol` termination condition is satisfied.\n",
      "Function evaluations 13, initial cost 1.1679e+04, final cost 1.7017e-09, first-order optimality 2.39e-06.\n",
      "`gtol` termination condition is satisfied.\n",
      "AIC:\n",
      "1398430.2895445474\n"
     ]
    },
    {
     "name": "stderr",
     "output_type": "stream",
     "text": [
      "<ipython-input-62-7dfe36154fba>:15: RuntimeWarning: divide by zero encountered in log\n",
      "  alfa_naive_all = [i  if i < np.infty else 1  for i in (-np.log(x_cm)) ]\n"
     ]
    }
   ],
   "source": [
    "AIC_tot_CM = 0\n",
    "\n",
    "for t_break in range(len(cm_breaks)-1):\n",
    "\n",
    "    input_data_cm = data[cm_breaks[t_break]:cm_breaks[t_break+1]]\n",
    "\n",
    "    tnet_cm = Utilities.TemporalNetworkLoaderSynt(input_data_cm,0,len(input_data_cm))\n",
    "\n",
    "    pnt_likelihood_local = PersistenceNetFitness(tnet_cm)\n",
    "\n",
    "    pnt_likelihood_CM = NaiveNetFitness(tnet_cm)\n",
    "\n",
    "    x_cm =  pnt_likelihood_CM.solve_eq()\n",
    "\n",
    "    alfa_naive_all = [i  if i < np.infty else 1  for i in (-np.log(x_cm)) ]\n",
    "\n",
    "    beta_naive_all = [1 for i in range(len(x_cm))]\n",
    "    \n",
    "    AIC_CM = Utilities.AIC(-pnt_likelihood_local.fun_likelihood(np.concatenate((alfa_naive_all,beta_naive_all))),len(alfa_naive_all))\n",
    "    \n",
    "    AIC_tot_CM += AIC_CM\n",
    "\n",
    "print('AIC:')\n",
    "print(AIC_tot_CM)"
   ]
  },
  {
   "cell_type": "markdown",
   "metadata": {},
   "source": [
    "### Here I compute the eigenvalues for the Model with constraints at node level"
   ]
  },
  {
   "cell_type": "code",
   "execution_count": 106,
   "metadata": {},
   "outputs": [
    {
     "name": "stdout",
     "output_type": "stream",
     "text": [
      "CONVERGENCE: REL_REDUCTION_OF_F_<=_FACTR*EPSMCH\n"
     ]
    }
   ],
   "source": [
    "list_periods = [[36,43],[77,99],[193,214]]\n",
    "\n",
    "period = 2\n",
    "\n",
    "input_data = data[list_periods[period][0]:list_periods[period][1]]\n",
    "\n",
    "\n",
    "tnet_synt = Utilities.TemporalNetworkLoaderSynt(input_data,0,len(input_data))\n",
    "pnt_likelihood_TCM = PersistenceNetFitness(tnet_synt)\n",
    "\n",
    "likelihood_pnt = pnt_likelihood_TCM.solve(alfa_rand,beta_rand)\n",
    "    \n",
    "x_all = pnt_likelihood_TCM.fitness_x\n",
    "y_all = pnt_likelihood_TCM.fitness_y\n",
    "\n",
    "T = pnt_likelihood_TCM.no_steps \n",
    "\n",
    "\n",
    "lambda_plus = pnt_likelihood_TCM.lambda_plus\n",
    "lambda_minus = pnt_likelihood_TCM.lambda_minus\n",
    "\n",
    "M = []\n",
    "\n",
    "tau = 1\n",
    "\n",
    "for i in range(pnt_likelihood_TCM.no_nodes):\n",
    "    for j in range(pnt_likelihood_TCM.no_nodes):\n",
    "        if i == j:\n",
    "            continue   \n",
    "        \n",
    "        root = np.sqrt(np.exp(-1*(np.log(y_all[i]) + np.log(y_all[j]))) + np.sinh(1/(2)*(np.log(x_all[i])+np.log(x_all[j]) +np.log(y_all[i]) +np.log(y_all[j])))**2 )                   \n",
    "        sinhB = np.sinh(1/(2) * (np.log(x_all[i],dtype=np.float128)+np.log(x_all[j],dtype=np.float128) +np.log(y_all[i],dtype=np.float128) +np.log(y_all[j],dtype=np.float128)),dtype=np.float128)\n",
    "        \n",
    "        coshB = np.cosh(1/(2) * (np.log(x_all[i])+np.log(x_all[j]) +np.log(y_all[i]) +np.log(y_all[j])))\n",
    "\n",
    "        e_2B = np.exp(-1 * (np.log(x_all[i])+np.log(x_all[j]) +np.log(y_all[i]) +np.log(y_all[j])))\n",
    "        e_B = np.exp(-1/2 * (np.log(x_all[i])+np.log(x_all[j]) +np.log(y_all[i]) +np.log(y_all[j])))\n",
    "\n",
    "        eJ = np.exp(1/(4)*(np.log(y_all[i]) + np.log(y_all[j])))\n",
    "        e2J = np.exp(1/(2)*(np.log(y_all[i],dtype=np.float128) + np.log(y_all[j],dtype=np.float128)),dtype=np.float128)\n",
    "        e4J = np.exp( (np.log(y_all[i],dtype=np.float128) + np.log(y_all[j],dtype=np.float128)),dtype=np.float128)\n",
    "\n",
    "        root_2 = np.sqrt(1+e4J*sinhB**2,dtype=np.float128)\n",
    "\n",
    "        sigma_l_t = (sinhB) / ( 2*root) + 1/2 \n",
    "\n",
    "\n",
    "        p_ij = (e2J*sinhB/(2*root_2)) * (np.power(lambda_plus[i,j],T,dtype=np.float128)- np.power(lambda_minus[i,j],T,dtype=np.float128))/(np.power(lambda_plus[i,j],T,dtype=np.float128)+np.power(lambda_minus[i,j],T,dtype=np.float128)) + 1/2\n",
    "\n",
    "        q_ij = sigma_l_t**2 + (1-sigma_l_t)*sigma_l_t*(np.power(lambda_minus[i,j],tau,dtype=np.float128)*np.power(lambda_plus[i,j],T-tau,dtype=np.float128) + np.power(lambda_plus[i,j],tau,dtype=np.float128)*np.power(lambda_minus[i,j],T-tau,dtype=np.float128) )/(lambda_minus[i,j]**T + lambda_plus[i,j]**T ) \n",
    "       \n",
    "\n",
    "        if p_ij == 1:\n",
    "\n",
    "            M_ij = [[i,j],[0, 0],[0,0]]\n",
    "\n",
    "        else:\n",
    "            M_ij = [[i,j],[q_ij/p_ij, (p_ij-q_ij)/p_ij],[(p_ij-q_ij)/(1-p_ij),(1-2*p_ij + q_ij)/(1-p_ij)]]\n",
    "        \n",
    "        M.append(M_ij)\n",
    "\n"
   ]
  },
  {
   "cell_type": "code",
   "execution_count": 107,
   "metadata": {},
   "outputs": [],
   "source": [
    "import scipy.linalg as la\n",
    "\n",
    "autovalori_medi = []\n",
    "autovalori_massimo = []\n",
    "autovalori_89 = [] \n",
    "autovalori_6 = [] \n",
    "autovalori_1 = [] \n",
    "\n",
    "\n",
    "\n",
    "for i in range(pnt_likelihood_TCM.no_nodes):\n",
    "    \n",
    "    nodo_i = M[91*i:91*(i+1)]\n",
    "    autovalori_2 = []\n",
    "    \n",
    "    for el in range(len(nodo_i)):\n",
    "\n",
    "        A = nodo_i[el][1:]\n",
    "        eigvals, eigvecs = la.eig(A)\n",
    "\n",
    "        autovalori_2.append(sorted(eigvals,reverse=True)[1])\n",
    "    if i == 1:\n",
    "        autovalori_1.append(np.real(autovalori_2)) \n",
    "    if i== 89:\n",
    "        autovalori_89.append(np.real(autovalori_2))\n",
    "    if i == 6:\n",
    "        autovalori_6.append(np.real(autovalori_2))\n",
    "        \n",
    "    media_autovalori_2 = np.sum(autovalori_2)/len(autovalori_2)\n",
    "    massimo_autovalori_2 = np.max(autovalori_2)\n",
    "    autovalori_medi.append(media_autovalori_2)\n",
    "    autovalori_massimo.append(massimo_autovalori_2)\n"
   ]
  },
  {
   "cell_type": "code",
   "execution_count": 108,
   "metadata": {},
   "outputs": [],
   "source": [
    "autovalori_medi_real = [autovalori_medi[i].real for i in range(len(autovalori_medi))   ]\n",
    "autovalori_medi_real = np.asarray(autovalori_medi_real)"
   ]
  },
  {
   "cell_type": "code",
   "execution_count": 89,
   "metadata": {},
   "outputs": [],
   "source": [
    "#autovalori_dict_medi = {}\n",
    "\n",
    "autovalori_dict_medi['T3'] = autovalori_medi_real"
   ]
  },
  {
   "cell_type": "code",
   "execution_count": 90,
   "metadata": {},
   "outputs": [
    {
     "data": {
      "image/png": "[encoded data removed]",
      "text/plain": [
       "<Figure size 1296x432 with 3 Axes>"
      ]
     },
     "metadata": {
      "needs_background": "light"
     },
     "output_type": "display_data"
    }
   ],
   "source": [
    "fontsize = 20\n",
    "\n",
    "d1 = autovalori_dict_medi['T1']\n",
    "d2 = autovalori_dict_medi['T2']\n",
    "d3 = autovalori_dict_medi['T3']\n",
    "\n",
    "# Plotting the histograms side by side\n",
    "fig, axs = plt.subplots(1, 3, figsize=(18, 6), sharey=True)\n",
    "\n",
    "# Histogram for d1\n",
    "axs[0].hist(d1, bins=30, color='skyblue', edgecolor='black')\n",
    "axs[0].set_title('T1 Distribution',fontsize=fontsize)\n",
    "axs[0].set_xlabel('Eigenvalue',fontsize=fontsize)\n",
    "axs[0].set_ylabel('Frequency',fontsize=fontsize)\n",
    "axs[0].tick_params(axis='x', labelsize=15)\n",
    "axs[0].grid(True)\n",
    "\n",
    "# Histogram for d2\n",
    "axs[1].hist(d2, bins=30, color='lightblue', edgecolor='black')\n",
    "axs[1].set_title('T2 Distribution',fontsize=fontsize)\n",
    "axs[1].set_xlabel('Eigenvalue',fontsize=fontsize)\n",
    "axs[1].tick_params(axis='x', labelsize=15)\n",
    "axs[1].grid(True)\n",
    "\n",
    "# Histogram for d3\n",
    "axs[2].hist(d3, bins=30, color='royalblue', edgecolor='black')\n",
    "axs[2].set_title('T3 Distribution',fontsize=fontsize)\n",
    "axs[2].set_xlabel('Eigenvalue',fontsize=fontsize)\n",
    "axs[2].tick_params(axis='x', labelsize=15)\n",
    "axs[2].grid(True)\n",
    "\n",
    "# Show the plot\n",
    "plt.tight_layout()\n",
    "plt.show()\n"
   ]
  },
  {
   "cell_type": "code",
   "execution_count": 109,
   "metadata": {},
   "outputs": [],
   "source": [
    "#nodes_dict['Node 1'].append(autovalori_1[0])\n",
    "#nodes_dict['Node 6'].append(autovalori_6[0])\n",
    "#nodes_dict['Node 89'].append(autovalori_89[0])"
   ]
  },
  {
   "cell_type": "code",
   "execution_count": 110,
   "metadata": {},
   "outputs": [
    {
     "data": {
      "image/png": "[encoded data removed]",
      "text/plain": [
       "<Figure size 1080x432 with 1 Axes>"
      ]
     },
     "metadata": {
      "needs_background": "light"
     },
     "output_type": "display_data"
    }
   ],
   "source": [
    "from matplotlib.colors import to_rgba\n",
    "\n",
    "colors = ['#3498db', '#e67e22', '#2ecc71']\n",
    "\n",
    "data_periodi = []\n",
    "labels_periodi = []\n",
    "colors_periodi = []\n",
    "\n",
    "alpha = 0.6  \n",
    "colors_rgba = [to_rgba(color, alpha) for color in colors]  \n",
    "\n",
    "\n",
    "for period in range(3):\n",
    "    for i, (node, distributions) in enumerate(nodes_dict.items()):\n",
    "        data_periodi.append(distributions[period])\n",
    "        labels_periodi.append(f\"{node} - T{period+1}\")\n",
    "        colors_periodi.append(colors[i])\n",
    "\n",
    "positions = []\n",
    "current_position = 1\n",
    "for i in range(len(data_periodi)):\n",
    "    positions.append(current_position)\n",
    "    current_position += 1\n",
    "    if (i + 1) % 3 == 0:\n",
    "        current_position += 1 \n",
    "\n",
    "plt.figure(figsize=(15, 6))\n",
    "box = plt.boxplot(data_periodi, patch_artist=True, positions=positions,notch=True)\n",
    "\n",
    "for i, patch in enumerate(box['boxes']):\n",
    "    color_index = i % 3  \n",
    "    patch.set_facecolor(colors_rgba[color_index])\n",
    "\n",
    "line_positions = [(positions[i * 3 - 1] + positions[i * 3]) / 2 for i in range(1, 3)]\n",
    "for pos in line_positions:\n",
    "    plt.axvline(x=pos, color='grey', linestyle='--')\n",
    "\n",
    "\n",
    "    \n",
    "new_labels = [''] * len(positions)\n",
    "for i in range(3):\n",
    "    center_position = i * 3 + 1  \n",
    "    if center_position < len(new_labels):\n",
    "        new_labels[center_position] = f\"$T_{i+1}$\"\n",
    "\n",
    "plt.xticks(positions, new_labels,fontsize=20)\n",
    "    \n",
    "    \n",
    "patches = [plt.Line2D([0], [0], color=color, marker='s', linestyle='', markersize=10, markerfacecolor=color) for color in colors]\n",
    "plt.legend(patches, [\"Node 1\", \"Node 6\", \"Node 89\"], loc='upper right')\n",
    "\n",
    "    \n",
    "plt.ylabel(\"Eigenvalue\",fontsize=20)\n",
    "plt.grid(True)\n",
    "plt.show()\n"
   ]
  },
  {
   "cell_type": "markdown",
   "metadata": {},
   "source": [
    "# Here, I plot the actual structural breakpoints compared to those detected by the best model."
   ]
  },
  {
   "cell_type": "code",
   "execution_count": 63,
   "metadata": {},
   "outputs": [],
   "source": [
    "lista_date = pd.date_range(start=\"2004-08-30\",end=\"2005-05-02\").strftime('%Y-%m-%d')"
   ]
  },
  {
   "cell_type": "code",
   "execution_count": 64,
   "metadata": {},
   "outputs": [],
   "source": [
    "lista_eventi_reali = ['2004-09-07','2004-09-14','2004-09-24','2004-10-08','2004-10-15','2004-11-01',\n",
    "                      \n",
    "                      '2004-11-11','2004-11-17','2004-11-25','2004-12-01','2004-12-09','2004-12-13',\n",
    "                     \n",
    "                      '2004-12-18','2005-01-03','2005-01-10','2005-01-31','2005-02-18','2005-03-07',\n",
    "                      \n",
    "                      '2005-03-21','2005-03-28','2005-04-07','2005-04-18','2005-04-21'\n",
    "                     ]"
   ]
  },
  {
   "cell_type": "code",
   "execution_count": 65,
   "metadata": {},
   "outputs": [],
   "source": [
    "lista_breaks_predicted = [0, 8, 15, 19, 24, 36, 43, 49, 61, 77, 99, 109, 116, 126, 143, 150, 165, 177, 193, 214, 231, 244]\n"
   ]
  },
  {
   "cell_type": "code",
   "execution_count": 66,
   "metadata": {},
   "outputs": [],
   "source": [
    "date_predicted = []\n",
    "for i in lista_breaks_predicted:\n",
    "    date_predicted.append(lista_date[i])\n"
   ]
  },
  {
   "cell_type": "code",
   "execution_count": 67,
   "metadata": {},
   "outputs": [],
   "source": [
    "point_predicted = [1 if el in date_predicted else 0 for el in lista_date]\n",
    "\n",
    "point_real = [1 if el in lista_eventi_reali else 0 for el in lista_date]"
   ]
  },
  {
   "cell_type": "code",
   "execution_count": 68,
   "metadata": {},
   "outputs": [],
   "source": [
    "date_x = [el if el in lista_eventi_reali else '' for el in lista_date]"
   ]
  },
  {
   "cell_type": "code",
   "execution_count": 70,
   "metadata": {},
   "outputs": [
    {
     "data": {
      "image/png": "[encoded data removed]",
      "text/plain": [
       "<Figure size 1440x504 with 1 Axes>"
      ]
     },
     "metadata": {
      "needs_background": "light"
     },
     "output_type": "display_data"
    }
   ],
   "source": [
    "import pandas as pd\n",
    "import matplotlib.pyplot as plt\n",
    "import matplotlib.dates as mdates\n",
    "\n",
    "\n",
    "fig, ax = plt.subplots(figsize=(20, 7))\n",
    "\n",
    "# Vertical lines for actual events\n",
    "for date in lista_eventi_reali:\n",
    "    ax.axvline(pd.to_datetime(date), color='red', linestyle='--', linewidth=1, label='Real Events')\n",
    "\n",
    "# Dots with horizontal bars for predicted events\n",
    "# bars to ±2 days\n",
    "for index in lista_breaks_predicted:\n",
    "    if 1 < index < len(lista_date) - 2:  \n",
    "        date_center = mdates.date2num(pd.to_datetime(lista_date[index]))\n",
    "        error = mdates.date2num(pd.to_datetime(lista_date[index]) + pd.Timedelta(days=2)) - date_center\n",
    "        ax.errorbar(date_center, 1, xerr=error, fmt='o', color='blue', capsize=3, label='Predicted Events')\n",
    "\n",
    "plt.xticks(mdates.date2num(pd.to_datetime(lista_date)), date_x)\n",
    "plt.xticks(rotation=70,size=20)\n",
    "\n",
    "\n",
    "handles, labels = plt.gca().get_legend_handles_labels()\n",
    "by_label = dict(zip(labels, handles))\n",
    "ax.legend(by_label.values(), by_label.keys(),fontsize=30)\n",
    "\n",
    "ax.set_title('Comparison of Real and Predicted Events',size=30)\n",
    "ax.set_yticklabels([])\n",
    "\n",
    "plt.tight_layout()\n",
    "plt.show()\n"
   ]
  },
  {
   "cell_type": "code",
   "execution_count": null,
   "metadata": {},
   "outputs": [],
   "source": []
  }
 ],
 "metadata": {
  "kernelspec": {
   "display_name": "Python 3",
   "language": "python",
   "name": "python3"
  },
  "language_info": {
   "codemirror_mode": {
    "name": "ipython",
    "version": 3
   },
   "file_extension": ".py",
   "mimetype": "text/x-python",
   "name": "python",
   "nbconvert_exporter": "python",
   "pygments_lexer": "ipython3",
   "version": "3.8.3"
  }
 },
 "nbformat": 4,
 "nbformat_minor": 4
}
